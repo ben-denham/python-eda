{
 "cells": [
  {
   "cell_type": "markdown",
   "metadata": {},
   "source": [
    "# Tutorial 3: Grouping and Presenting\n",
    "\n",
    "In this tutorial you will:\n",
    "\n",
    "-   Visualise relationships between groups with Plotly\n",
    "-   Grouping and aggregating data with Pandas to compare subsets of your\n",
    "    data\n",
    "-   Export the results of your analysis to share with others"
   ]
  },
  {
   "cell_type": "code",
   "execution_count": null,
   "metadata": {},
   "outputs": [],
   "source": [
    "%pip install pandas plotly nbformat\n",
    "\n",
    "import pandas as pd\n",
    "import plotly.express as px\n",
    "\n",
    "listings_df = pd.read_csv('https://ben-denham.github.io/python-eda/data/inside_airbnb_listings_nz_2023_09.csv')\n",
    "\n",
    "listings_df"
   ]
  },
  {
   "cell_type": "markdown",
   "metadata": {},
   "source": [
    "## Plotting groups\n",
    "\n",
    "Colour each listing by its room type:"
   ]
  },
  {
   "cell_type": "code",
   "execution_count": null,
   "metadata": {},
   "outputs": [],
   "source": [
    "px.scatter_mapbox(\n",
    "    listings_df,\n",
    "    lon='longitude',\n",
    "    lat='latitude',\n",
    "    zoom=3,\n",
    "    height=500,\n",
    ").update_layout(\n",
    "    mapbox_style='open-street-map',\n",
    ")"
   ]
  },
  {
   "cell_type": "markdown",
   "metadata": {},
   "source": [
    "<details>\n",
    "<summary>\n",
    "Reveal model answer\n",
    "</summary>\n",
    "\n",
    "``` code\n",
    "px.scatter_mapbox(\n",
    "    listings_df,\n",
    "    lon='longitude',\n",
    "    lat='latitude',\n",
    "    zoom=3,\n",
    "    height=500,\n",
    "    color='room_type',\n",
    ").update_layout(\n",
    "    mapbox_style='open-street-map',\n",
    ")\n",
    "```\n",
    "\n",
    "</details>"
   ]
  },
  {
   "cell_type": "markdown",
   "metadata": {},
   "source": [
    "Plot the distribution of listing prices, with a separate subplot for\n",
    "each number of people that a listing can accommodate:"
   ]
  },
  {
   "cell_type": "code",
   "execution_count": null,
   "metadata": {},
   "outputs": [],
   "source": [
    "px.histogram(\n",
    "    listings_df[listings_df['price_nzd'] < 500].sort_values(by='accommodates'),\n",
    "    x='price_nzd',\n",
    "    facet_row='accommodates',\n",
    "    height=2000,\n",
    "    histnorm='percent',\n",
    ")"
   ]
  },
  {
   "cell_type": "markdown",
   "metadata": {},
   "source": [
    "Plot a scatter matrix of numeric columns:"
   ]
  },
  {
   "cell_type": "code",
   "execution_count": null,
   "metadata": {},
   "outputs": [],
   "source": [
    "px.scatter_matrix(\n",
    "    listings_df[listings_df['price_nzd'] < 500],\n",
    "    dimensions=[\n",
    "        'price_nzd',\n",
    "        'accommodates',\n",
    "        'review_scores_rating',\n",
    "        'number_of_reviews',\n",
    "    ],\n",
    "    color='room_type',\n",
    "    height=900,\n",
    "    width=900,\n",
    ")"
   ]
  },
  {
   "cell_type": "markdown",
   "metadata": {},
   "source": [
    "### Plotting groups based on numeric columns\n",
    "\n",
    "Colour each listing by its price (ignoring outliers):"
   ]
  },
  {
   "cell_type": "code",
   "execution_count": null,
   "metadata": {},
   "outputs": [],
   "source": [
    "px.scatter_mapbox(\n",
    "    listings_df[listings_df['price_nzd'] <= 500],\n",
    "    lon='longitude',\n",
    "    lat='latitude',\n",
    "    zoom=3,\n",
    "    height=500,\n",
    ").update_layout(\n",
    "    mapbox_style='open-street-map',\n",
    ")"
   ]
  },
  {
   "cell_type": "markdown",
   "metadata": {},
   "source": [
    "<details>\n",
    "<summary>\n",
    "Reveal model answer\n",
    "</summary>\n",
    "\n",
    "``` code\n",
    "px.scatter_mapbox(\n",
    "    listings_df[listings_df['price_nzd'] <= 500],\n",
    "    lon='longitude',\n",
    "    lat='latitude',\n",
    "    zoom=3,\n",
    "    height=500,\n",
    "    color='price_nzd',\n",
    ").update_layout(\n",
    "    mapbox_style='open-street-map',\n",
    ")\n",
    "```\n",
    "\n",
    "</details>"
   ]
  },
  {
   "cell_type": "markdown",
   "metadata": {},
   "source": [
    "Plot the distribution of review counts for different tiers of pricing:"
   ]
  },
  {
   "cell_type": "code",
   "execution_count": null,
   "metadata": {},
   "outputs": [],
   "source": [
    "listings_df['price_bin'] =\n",
    "\n",
    "px.box(\n",
    "    # Ensure lower price bins are shown first.\n",
    "    listings_df.sort_values(by='price_nzd'),\n",
    "    x='price_bin',\n",
    "    y='number_of_reviews',\n",
    ")"
   ]
  },
  {
   "cell_type": "markdown",
   "metadata": {},
   "source": [
    "<details>\n",
    "<summary>\n",
    "Reveal model answer\n",
    "</summary>\n",
    "\n",
    "``` code\n",
    "listings_df['price_bin'] = pd.qcut(listings_df['price_nzd'], q=10).astype(str)\n",
    "\n",
    "px.box(\n",
    "    # Ensure lower price bins are shown first.\n",
    "    listings_df.sort_values(by='price_nzd'),\n",
    "    x='price_bin',\n",
    "    y='number_of_reviews',\n",
    ")\n",
    "```\n",
    "\n",
    "</details>"
   ]
  },
  {
   "cell_type": "markdown",
   "metadata": {},
   "source": [
    "## Grouping and aggregating data with Pandas\n",
    "\n",
    "Print the number of listings for each type of room:"
   ]
  },
  {
   "cell_type": "code",
   "execution_count": null,
   "metadata": {},
   "outputs": [],
   "source": [
    "room_type_groups =\n",
    "\n",
    "for room_type, room_type_group_df in room_type_groups:\n",
    "    print('Room type:', room_type)\n",
    "    print(room_type_group_df.shape[0])"
   ]
  },
  {
   "cell_type": "markdown",
   "metadata": {},
   "source": [
    "<details>\n",
    "<summary>\n",
    "Reveal model answer\n",
    "</summary>\n",
    "\n",
    "``` code\n",
    "room_type_groups = listings_df.groupby('room_type')\n",
    "\n",
    "for room_type, room_type_group_df in room_type_groups:\n",
    "    print('Room type:', room_type)\n",
    "    print(room_type_group_df.shape[0])\n",
    "```\n",
    "\n",
    "</details>"
   ]
  },
  {
   "cell_type": "code",
   "execution_count": null,
   "metadata": {},
   "outputs": [],
   "source": [
    "indexed_stats_df = (\n",
    "    listings_df\n",
    "    .groupby(['accommodates', 'room_type'])\n",
    "    [['price_nzd', 'review_scores_rating']]\n",
    "    .agg(['mean', 'std'])\n",
    ")\n",
    "\n",
    "indexed_stats_df"
   ]
  },
  {
   "cell_type": "markdown",
   "metadata": {},
   "source": [
    "-   Calling `.agg()` with a list of statistics also converts the columns\n",
    "    into a *multi-level index*\n",
    "    -   We can flatten them with a list comprehension\n",
    "    -   This issue does not occur when passing a single statistic name\n",
    "        to `.agg()` instead of a list, or when performing aggregation\n",
    "        against a single numeric column instead of a list.\n",
    "-   `.groupby()` converts the group columns into an *index*\n",
    "    -   We can convert them back into regular columns with\n",
    "        `.reset_index()`"
   ]
  },
  {
   "cell_type": "code",
   "execution_count": null,
   "metadata": {},
   "outputs": [],
   "source": [
    "stats_df = indexed_stats_df.copy()\n",
    "stats_df.columns = ['_'.join(col) for col in stats_df.columns]\n",
    "stats_df = stats_df.reset_index()\n",
    "\n",
    "stats_df"
   ]
  },
  {
   "cell_type": "markdown",
   "metadata": {},
   "source": [
    "Such DataFrames produced with `groupby()` can be very useful for\n",
    "producing plots of statistics, like bar charts:"
   ]
  },
  {
   "cell_type": "code",
   "execution_count": null,
   "metadata": {},
   "outputs": [],
   "source": [
    "px.bar(\n",
    "    stats_df.sort_values(by='accommodates'),\n",
    "    x='accommodates',\n",
    "    y='price_nzd_mean',\n",
    "    color='room_type',\n",
    "    barmode='group',\n",
    "    title='Mean Price',\n",
    ")"
   ]
  },
  {
   "cell_type": "markdown",
   "metadata": {},
   "source": [
    "## Sharing results with others\n",
    "\n",
    "Export our group statistics to a CSV file:"
   ]
  },
  {
   "cell_type": "code",
   "execution_count": null,
   "metadata": {},
   "outputs": [],
   "source": [
    "stats_df.to_csv('stats_df.csv', index=False)"
   ]
  },
  {
   "cell_type": "markdown",
   "metadata": {},
   "source": [
    "Open the file browser from the left sidebar, right-click on the\n",
    "`stats_df.csv`, and click `Download`.\n",
    "\n",
    "### Sharing the notebook\n",
    "\n",
    "To export this notebook as an HTML file:\n",
    "\n",
    "1.  Select `File -> Download -> Download .ipynb`\n",
    "2.  Open the file browser from the left sidebar, and upload the file you\n",
    "    downloaded.\n",
    "3.  Run the following cell to execute the shell command to convert the\n",
    "    uploaded `.ipynb` file to a `.html` file:\n",
    "4.  Right-click on the generated `python_eda_tutorial_3.html` file in\n",
    "    the file browser and click `Download`.\n",
    "5.  Open the downloaded file in any web browser."
   ]
  },
  {
   "cell_type": "code",
   "execution_count": null,
   "metadata": {},
   "outputs": [],
   "source": [
    "!jupyter nbconvert --to html python_eda_tutorial_3.ipynb"
   ]
  },
  {
   "cell_type": "markdown",
   "metadata": {},
   "source": [
    "#### Markdown Demo\n",
    "\n",
    "Text/Markdown cells let us provide **explanations** for our analyses\n",
    "with *rich-text* formatting.\n",
    "\n",
    "-   This\n",
    "-   is\n",
    "-   a bullet list\n",
    "\n",
    "1.  This\n",
    "2.  is\n",
    "3.  a numbered list\n",
    "\n",
    "<!-- -->\n",
    "\n",
    "    {\n",
    "        \"format\": \"JSON\",\n",
    "        \"title\": \"Code block demonstration\"\n",
    "    }\n",
    "\n",
    "$$\n",
    "a^2 + b^2 = c^2\n",
    "$$\n",
    "\n",
    "A [link](https://www.markdownguide.org/cheat-sheet/) to a Markdown\n",
    "guide."
   ]
  },
  {
   "cell_type": "markdown",
   "metadata": {},
   "source": [
    "# Practice Exercises\n",
    "\n",
    "## 1. Bringing it all together\n",
    "\n",
    "Use everything you’ve learned to answer a critical question for our\n",
    "analysis: **Do more expensive listings typically have higher ratings?**\n",
    "\n",
    "There are different ways you could approach this analysis, but consider\n",
    "the following points:\n",
    "\n",
    "1.  How do you want to judge how “expensive” a listing is? E.g. Should\n",
    "    it be based on price, or price-per-person?\n",
    "2.  Given what we learned about ratings in the previous tutorial, do you\n",
    "    want to exclude listings with few reviews?\n",
    "3.  Visualising the relationship between expensiveness and rating will\n",
    "    be important, but what kind of visualisation will be easiest to\n",
    "    interpret? Perhaps a scatter plot? Or maybe convert one of the\n",
    "    columns into a categorical column with `pd.cut()` or `pd.qcut()` and\n",
    "    then use a box plot? Or `groupby()` the categorical column to\n",
    "    produce a table of summary statistics per group?\n",
    "4.  Add a Text/Markdown cell to explain what you can observe from your\n",
    "    visualisation(s)."
   ]
  },
  {
   "cell_type": "code",
   "execution_count": null,
   "metadata": {},
   "outputs": [],
   "source": []
  },
  {
   "cell_type": "markdown",
   "metadata": {},
   "source": [
    "<details>\n",
    "<summary>\n",
    "Hint: code for calculating price-per-person\n",
    "</summary>\n",
    "\n",
    "``` python\n",
    "listings_df['price_per_person'] = listings_df['price_nzd'] / listings_df['accommodates']\n",
    "```\n",
    "\n",
    "</details>\n",
    "<details>\n",
    "<summary>\n",
    "Hint: code for creating a categorical column from a numeric column\n",
    "</summary>\n",
    "\n",
    "``` python\n",
    "listings_df['price_per_person_bin'] = pd.qcut(listings_df['price_per_person'], q=10).astype(str)\n",
    "\n",
    "# If you bin the rating instead, you may need to drop duplicate bins.\n",
    "listings_df['rating_bin'] = pd.qcut(listings_df['review_scores_rating'], q=10, duplicates='drop').astype(str)\n",
    "```\n",
    "\n",
    "</details>\n",
    "<details>\n",
    "<summary>\n",
    "Hint: code for excluding listings with few reviews\n",
    "</summary>\n",
    "\n",
    "``` python\n",
    "reviewed_listings_df = listings_df[listings_df['number_of_reviews'] > 100]\n",
    "```\n",
    "\n",
    "</details>\n",
    "<details>\n",
    "<summary>\n",
    "Full example answer\n",
    "</summary>\n",
    "\n",
    "``` python\n",
    "listings_df['price_per_person'] = listings_df['price_nzd'] / listings_df['accommodates']\n",
    "\n",
    "listings_df['price_per_person_bin'] = pd.qcut(listings_df['price_per_person'], q=10).astype(str)\n",
    "\n",
    "reviewed_listings_df = listings_df[listings_df['number_of_reviews'] > 100]\n",
    "\n",
    "px.box(\n",
    "    # Ensure lower price bins are shown first.\n",
    "    reviewed_listings_df.sort_values(by='price_per_person'),\n",
    "    x='price_per_person_bin',\n",
    "    y='review_scores_rating',\n",
    ")\n",
    "```\n",
    "\n",
    "</details>\n",
    "\n",
    "## 2. Extra for Experts - Aggregation Practice\n",
    "\n",
    "In the exercises below, be wary of indexes, column names, multi-index\n",
    "columns in the DataFrames produced by `.groupby()`.\n",
    "\n",
    "### 2a. Which parent region has the highest average listing price?\n",
    "\n",
    "Extra: Does the answer change depending on whether you use a mean or\n",
    "median for the average? what does that indicate?\n",
    "\n",
    "<details>\n",
    "<summary>\n",
    "Hint\n",
    "</summary>\n",
    "\n",
    "Hint: Use a `groupby()` and `agg()` with an appropriate average\n",
    "statistic like `'mean'` or `'median'`. Then sort the result by\n",
    "`price_nzd`.\n",
    "\n",
    "</details>"
   ]
  },
  {
   "cell_type": "code",
   "execution_count": null,
   "metadata": {},
   "outputs": [],
   "source": []
  },
  {
   "cell_type": "markdown",
   "metadata": {},
   "source": [
    "<details>\n",
    "<summary>\n",
    "Reveal model answer\n",
    "</summary>\n",
    "\n",
    "``` code\n",
    "region_price_stats_df = (\n",
    "    listings_df\n",
    "    .groupby('region_parent_name')\n",
    "    [['price_nzd']]\n",
    "    .agg(['median', 'mean'])\n",
    ")\n",
    "region_price_stats_df.columns = ['_'.join(col) for col in region_price_stats_df.columns]\n",
    "region_price_stats_df.sort_values(by='price_nzd_median')\n",
    "```\n",
    "\n",
    "</details>"
   ]
  },
  {
   "cell_type": "markdown",
   "metadata": {},
   "source": [
    "### 2b. Do “home” listings cost more? Are they better reviewed? Do they accommodate more people?\n",
    "\n",
    "Any listing with “home” in it’s name should be considered a “home”\n",
    "listing.\n",
    "\n",
    "<details>\n",
    "<summary>\n",
    "Hint\n",
    "</summary>\n",
    "\n",
    "Use `.str.lower()` and `.str.contains()` on the `name` column to create\n",
    "a Boolean column that indicates which listings have names with the\n",
    "keyword “home”, then use appropriate `groupby()`s and/or plots.\n",
    "\n",
    "</details>"
   ]
  },
  {
   "cell_type": "code",
   "execution_count": null,
   "metadata": {},
   "outputs": [],
   "source": []
  },
  {
   "cell_type": "markdown",
   "metadata": {},
   "source": [
    "<details>\n",
    "<summary>\n",
    "Reveal model answer\n",
    "</summary>\n",
    "\n",
    "``` code\n",
    "listings_df['is_home'] = listings_df['name'].str.lower().str.contains('home')\n",
    "(\n",
    "    listings_df\n",
    "    .groupby('is_home')\n",
    "    [['price_nzd', 'review_scores_rating', 'accommodates']]\n",
    "    .agg(['mean', 'median'])\n",
    ")\n",
    "```\n",
    "\n",
    "</details>"
   ]
  },
  {
   "cell_type": "markdown",
   "metadata": {},
   "source": [
    "### 2c. Of hosts with at least 10 reviewed listings, who has the highest average rating?\n",
    "\n",
    "<details>\n",
    "<summary>\n",
    "Hint\n",
    "</summary>\n",
    "\n",
    "Use a `groupby('host_name')` on `review_scores_rating` with\n",
    "`.agg(['count', 'mean'])` to get both the count and mean of the ratings.\n",
    "Then filter hosts based on the count of listings.\n",
    "\n",
    "</details>"
   ]
  },
  {
   "cell_type": "code",
   "execution_count": null,
   "metadata": {},
   "outputs": [],
   "source": []
  },
  {
   "cell_type": "markdown",
   "metadata": {},
   "source": [
    "<details>\n",
    "<summary>\n",
    "Reveal model answer\n",
    "</summary>\n",
    "\n",
    "``` code\n",
    "host_stats_df = (\n",
    "    listings_df\n",
    "    .groupby('host_name')\n",
    "    ['review_scores_rating']\n",
    "    .agg(['count', 'mean'])\n",
    ")\n",
    "(\n",
    "    host_stats_df\n",
    "    [host_stats_df['count'] >= 10]\n",
    "    .sort_values(by='mean')\n",
    ")\n",
    "```\n",
    "\n",
    "</details>"
   ]
  },
  {
   "cell_type": "markdown",
   "metadata": {},
   "source": [
    "### 2d. Use a bar chart to show how many listings of each room type there are in each parent region.\n",
    "\n",
    "<details>\n",
    "<summary>\n",
    "Hint\n",
    "</summary>\n",
    "\n",
    "Use a `groupby()` and `agg()` with the `'size'` statistic (which counts\n",
    "the number of rows in the group, as opposed to `'count'` which counts\n",
    "the number of non-`NaN` values in a column).\n",
    "\n",
    "</details>"
   ]
  },
  {
   "cell_type": "code",
   "execution_count": null,
   "metadata": {},
   "outputs": [],
   "source": []
  },
  {
   "cell_type": "markdown",
   "metadata": {},
   "source": [
    "<details>\n",
    "<summary>\n",
    "Reveal model answer\n",
    "</summary>\n",
    "\n",
    "``` code\n",
    "region_room_counts_df = (\n",
    "    listings_df\n",
    "    .groupby(['region_parent_name', 'room_type'])\n",
    "    .agg('size')\n",
    "    .reset_index()\n",
    ")\n",
    "px.bar(\n",
    "    region_room_counts_df.sort_values(by=0, ascending=False),\n",
    "    x='region_parent_name',\n",
    "    y=0,\n",
    "    color='room_type',\n",
    "    barmode='group',\n",
    ")\n",
    "```\n",
    "\n",
    "</details>"
   ]
  }
 ],
 "metadata": {
  "kernelspec": {
   "display_name": "Python",
   "language": "python",
   "name": "python3"
  },
  "language_info": {
   "codemirror_mode": {
    "name": "python",
    "version": "3"
   },
   "file_extension": ".py",
   "mimetype": "text/x-python",
   "name": "python",
   "nbconvert_exporter": "python",
   "pygments_lexer": "ipython3",
   "version": "3.8"
  }
 },
 "nbformat": 4,
 "nbformat_minor": 4
}
