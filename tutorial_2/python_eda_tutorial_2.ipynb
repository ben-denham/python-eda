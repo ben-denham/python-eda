{
 "cells": [
  {
   "cell_type": "markdown",
   "metadata": {},
   "source": [
    "# Tutorial 2: Transforming and Filtering\n",
    "\n",
    "In this tutorial you will:\n",
    "\n",
    "-   Learn about Pandas’ core types and column data types\n",
    "-   Transform columns to clean your data and compute new columns\n",
    "-   Use Boolean conditions on columns to filter DataFrame rows"
   ]
  },
  {
   "cell_type": "code",
   "execution_count": null,
   "metadata": {},
   "outputs": [],
   "source": [
    "%pip install pandas plotly nbformat\n",
    "\n",
    "import pandas as pd\n",
    "import plotly.express as px\n",
    "\n",
    "listings_df = pd.read_csv('https://ben-denham.github.io/python-eda/data/inside_airbnb_listings_nz_2023_09.csv')\n",
    "\n",
    "listings_df"
   ]
  },
  {
   "cell_type": "markdown",
   "metadata": {},
   "source": [
    "## Data Types in Pandas\n",
    "\n",
    "What is the *type* of a table of data?"
   ]
  },
  {
   "cell_type": "code",
   "execution_count": null,
   "metadata": {},
   "outputs": [],
   "source": [
    "type(listings_df)"
   ]
  },
  {
   "cell_type": "markdown",
   "metadata": {},
   "source": [
    "What is the *type* of an individual column?"
   ]
  },
  {
   "cell_type": "code",
   "execution_count": null,
   "metadata": {},
   "outputs": [],
   "source": [
    "type(listings_df['room_type'])"
   ]
  },
  {
   "cell_type": "markdown",
   "metadata": {},
   "source": [
    "Check the data type of each column in the DataFrame:"
   ]
  },
  {
   "cell_type": "code",
   "execution_count": null,
   "metadata": {},
   "outputs": [],
   "source": []
  },
  {
   "cell_type": "markdown",
   "metadata": {},
   "source": [
    "## Transforming Data\n",
    "\n",
    "We can convert a column with datetime-like strings to have a datetime\n",
    "data type:"
   ]
  },
  {
   "cell_type": "code",
   "execution_count": null,
   "metadata": {},
   "outputs": [],
   "source": [
    "listings_df['last_review']"
   ]
  },
  {
   "cell_type": "markdown",
   "metadata": {},
   "source": [
    "Replace the `last_review` column with a new Series with a datetime data\n",
    "type:"
   ]
  },
  {
   "cell_type": "code",
   "execution_count": null,
   "metadata": {},
   "outputs": [],
   "source": []
  },
  {
   "cell_type": "markdown",
   "metadata": {},
   "source": [
    "Check that the `last_review` column now has the correct data type:"
   ]
  },
  {
   "cell_type": "code",
   "execution_count": null,
   "metadata": {},
   "outputs": [],
   "source": [
    "listings_df.info()"
   ]
  },
  {
   "cell_type": "markdown",
   "metadata": {},
   "source": [
    "### Maths with columns\n",
    "\n",
    "Convert listing prices to Australian dollars:"
   ]
  },
  {
   "cell_type": "code",
   "execution_count": null,
   "metadata": {},
   "outputs": [],
   "source": [
    "nzd_to_aud = 0.93\n",
    "\n",
    "listings_df['price_nzd']"
   ]
  },
  {
   "cell_type": "markdown",
   "metadata": {},
   "source": [
    "Add a `price_nzd_per_person` column to `listings_df`:"
   ]
  },
  {
   "cell_type": "code",
   "execution_count": null,
   "metadata": {},
   "outputs": [],
   "source": [
    "listings_df['price_nzd_per_person'] =\n",
    "\n",
    "listings_df"
   ]
  },
  {
   "cell_type": "markdown",
   "metadata": {},
   "source": [
    "### Applying Functions to DataFrames\n",
    "\n",
    "The following function transforms a listing ID into a URL:"
   ]
  },
  {
   "cell_type": "code",
   "execution_count": null,
   "metadata": {},
   "outputs": [],
   "source": [
    "def id_to_url(id: str) -> str:\n",
    "    numeric_id = id.removeprefix('l')\n",
    "    return f'https://www.airbnb.co.nz/rooms/{numeric_id}'\n",
    "\n",
    "id_to_url('l11909616')"
   ]
  },
  {
   "cell_type": "markdown",
   "metadata": {},
   "source": [
    "Produce a series of listing URLs:"
   ]
  },
  {
   "cell_type": "code",
   "execution_count": null,
   "metadata": {},
   "outputs": [],
   "source": []
  },
  {
   "cell_type": "markdown",
   "metadata": {},
   "source": [
    "The following function produces a description from a listing row:"
   ]
  },
  {
   "cell_type": "code",
   "execution_count": null,
   "metadata": {},
   "outputs": [],
   "source": [
    "def listing_to_description(row):\n",
    "    room_type = row['room_type']\n",
    "    host_name = row['host_name']\n",
    "    return f'{room_type} by {host_name}'"
   ]
  },
  {
   "cell_type": "markdown",
   "metadata": {},
   "source": [
    "Produce a Series of listing descriptions:"
   ]
  },
  {
   "cell_type": "code",
   "execution_count": null,
   "metadata": {},
   "outputs": [],
   "source": []
  },
  {
   "cell_type": "markdown",
   "metadata": {},
   "source": [
    "## Filtering Rows\n",
    "\n",
    "Construct a *Boolean Series* that is `True` for listings in\n",
    "`'Wellington City'`:"
   ]
  },
  {
   "cell_type": "code",
   "execution_count": null,
   "metadata": {},
   "outputs": [],
   "source": [
    "wellington_mask ="
   ]
  },
  {
   "cell_type": "markdown",
   "metadata": {},
   "source": [
    "Use the `wellington_mask` to get a DataFrame of listings in Wellington:"
   ]
  },
  {
   "cell_type": "code",
   "execution_count": null,
   "metadata": {},
   "outputs": [],
   "source": []
  },
  {
   "cell_type": "markdown",
   "metadata": {},
   "source": [
    "Use the `wellington_mask` to get a DataFrame of listings NOT in\n",
    "Wellington:"
   ]
  },
  {
   "cell_type": "code",
   "execution_count": null,
   "metadata": {},
   "outputs": [],
   "source": []
  },
  {
   "cell_type": "markdown",
   "metadata": {},
   "source": [
    "### Combining Filters\n",
    "\n",
    "Construct a *Boolean Series* that is `True` for listings that cost less\n",
    "than \\$100 per night:"
   ]
  },
  {
   "cell_type": "code",
   "execution_count": null,
   "metadata": {},
   "outputs": [],
   "source": [
    "cheap_mask = listings_df['price_nzd'] <= 100\n",
    "\n",
    "cheap_mask"
   ]
  },
  {
   "cell_type": "markdown",
   "metadata": {},
   "source": [
    "Find cheap listings in Wellington:"
   ]
  },
  {
   "cell_type": "code",
   "execution_count": null,
   "metadata": {},
   "outputs": [],
   "source": []
  },
  {
   "cell_type": "markdown",
   "metadata": {},
   "source": [
    "Find listings that are either cheap OR in Wellington:"
   ]
  },
  {
   "cell_type": "code",
   "execution_count": null,
   "metadata": {},
   "outputs": [],
   "source": []
  },
  {
   "cell_type": "markdown",
   "metadata": {},
   "source": [
    "# Practice Exercises\n",
    "\n",
    "## 1. Analysing listing ratings\n",
    "\n",
    "### 1a. Plotting the ratings\n",
    "\n",
    "Guests may review a listing on a scale of 0 to 5 stars, and the mean of\n",
    "those reviews is recorded as the *rating* of the listing.\n",
    "\n",
    "We’d like to get an idea of the distribution of the typical ratings of\n",
    "listings, so your first task is to plot a histogram of the\n",
    "`review_scores_rating` column:"
   ]
  },
  {
   "cell_type": "code",
   "execution_count": null,
   "metadata": {},
   "outputs": [],
   "source": []
  },
  {
   "cell_type": "markdown",
   "metadata": {},
   "source": [
    "### 1b. Thinking about distribution spikes\n",
    "\n",
    "In your histogram, you should see that the smooth-ish shape of the\n",
    "distribution is broken up by a series of spikes, especially around the\n",
    "exact ratings of 0, 1, 2, 3, and 4. Why do you think that may be?\n",
    "\n",
    "<details>\n",
    "<summary>\n",
    "Hint\n",
    "</summary>\n",
    "\n",
    "Listings with a small number of reviews are more likely to have a rating\n",
    "that is either an exact number of stars or a simple ratio. For example,\n",
    "a listing with a single review must have a rating that is equal to the\n",
    "exact number of stars of its only review!\n",
    "\n",
    "When considering summary statistics (like an average rating) it is\n",
    "important to consider how many data points have made up that statistic.\n",
    "\n",
    "</details>\n",
    "\n",
    "### 1c. Plotting filtered data\n",
    "\n",
    "Let’s seen what the distribution looks like if we ignore listings with\n",
    "few reviews.\n",
    "\n",
    "Plot a histogram of listings that have more than 100 reviews:"
   ]
  },
  {
   "cell_type": "code",
   "execution_count": null,
   "metadata": {},
   "outputs": [],
   "source": []
  },
  {
   "cell_type": "markdown",
   "metadata": {},
   "source": [
    "Does plotting only listings with a large number of reviews reveal any\n",
    "other insights about the data?\n",
    "\n",
    "<details>\n",
    "<summary>\n",
    "Hint\n",
    "</summary>\n",
    "\n",
    "No listing with more than 100 reviews has a rating less than 4.0 stars.\n",
    "\n",
    "</details>\n",
    "\n",
    "## 2. Transforming and Filtering Practice\n",
    "\n",
    "Combine the techniques we’ve learned in the last two tutorials to answer\n",
    "these questions:\n",
    "\n",
    "### 2a. What is the lowest cost booking I could make?\n",
    "\n",
    "Note: Each listing has a minimum number of nights that you must book for\n",
    "(recorded in the `minimum_nights` column)."
   ]
  },
  {
   "cell_type": "code",
   "execution_count": null,
   "metadata": {},
   "outputs": [],
   "source": []
  },
  {
   "cell_type": "markdown",
   "metadata": {},
   "source": [
    "<details>\n",
    "<summary>\n",
    "Hint\n",
    "</summary>\n",
    "\n",
    "You may find it helpful to multiply two columns and use `.min()` as part\n",
    "of your answer.\n",
    "\n",
    "</details>\n",
    "\n",
    "### 2b. Which parent region has more affordable listings on average, Auckland or Wellington City?"
   ]
  },
  {
   "cell_type": "code",
   "execution_count": null,
   "metadata": {},
   "outputs": [],
   "source": []
  },
  {
   "cell_type": "markdown",
   "metadata": {},
   "source": [
    "<details>\n",
    "<summary>\n",
    "Hint\n",
    "</summary>\n",
    "\n",
    "You may find it helpful to use filters and `.mean()` as part of your\n",
    "answer.\n",
    "\n",
    "</details>\n",
    "\n",
    "**Extra:** The term “affordable” is subject to interpretation here - is\n",
    "a listing more affordable if it can accommodate more people for the same\n",
    "price? Does your answer change depending on your interpretation of\n",
    "affordable?\n",
    "\n",
    "## 3. Extra for Experts - Data Cleaning\n",
    "\n",
    "Pandas DataFrames and Series have many other methods that apply useful\n",
    "transformations. You can find references for them at these links:\n",
    "\n",
    "-   https://pandas.pydata.org/pandas-docs/stable/reference/frame.html\n",
    "-   https://pandas.pydata.org/pandas-docs/stable/reference/series.html\n",
    "\n",
    "Try using some of them to perform the data cleaning tasks below.\n",
    "\n",
    "### 3a. Filter out listings that are missing a rating\n",
    "\n",
    "Use the\n",
    "[`.isna()`](https://pandas.pydata.org/pandas-docs/stable/reference/api/pandas.Series.isna.html)\n",
    "Series method to find listings that are missing a rating (i.e. the\n",
    "rating is `NaN`)."
   ]
  },
  {
   "cell_type": "code",
   "execution_count": null,
   "metadata": {},
   "outputs": [],
   "source": []
  },
  {
   "cell_type": "markdown",
   "metadata": {},
   "source": [
    "### 3b. Add a `filled_rating` column to `listings_df` that fills in missing ratings with the mean rating\n",
    "\n",
    "Use the\n",
    "[`.fillna()`](https://pandas.pydata.org/pandas-docs/stable/reference/api/pandas.Series.fillna.html)\n",
    "Series method to replace missing values in a Series with a given value."
   ]
  },
  {
   "cell_type": "code",
   "execution_count": null,
   "metadata": {},
   "outputs": [],
   "source": []
  },
  {
   "cell_type": "markdown",
   "metadata": {},
   "source": [
    "> Filling in missing values with an average value can *sometimes* be a\n",
    "> useful technique for applying machine learning models that cannot work\n",
    "> when some data values are missing.\n",
    "\n",
    "### 3c. Convert formatted price strings to numeric values\n",
    "\n",
    "The original Inside Airbnb dataset provides each price as a formatted\n",
    "string starting with a `$` and containing commas. The original formatted\n",
    "values are retained in the `formatted_price` column.\n",
    "\n",
    "Your task is to transform the `formatted_price` column into a numeric\n",
    "`float` data type, just like the `price_nzd` column.\n",
    "\n",
    "You may like to use the `.apply()` used in the tutorial, or try using\n",
    "the\n",
    "[`.str.replace()`](https://pandas.pydata.org/pandas-docs/stable/reference/api/pandas.Series.str.replace.html)\n",
    "and\n",
    "[`.astype()`](https://pandas.pydata.org/pandas-docs/stable/reference/api/pandas.Series.astype.html)\n",
    "Series methods."
   ]
  },
  {
   "cell_type": "code",
   "execution_count": null,
   "metadata": {},
   "outputs": [],
   "source": []
  }
 ],
 "metadata": {
  "kernelspec": {
   "display_name": "Python",
   "language": "python",
   "name": "python3"
  },
  "language_info": {
   "codemirror_mode": {
    "name": "python",
    "version": "3"
   },
   "file_extension": ".py",
   "mimetype": "text/x-python",
   "name": "python",
   "nbconvert_exporter": "python",
   "pygments_lexer": "ipython3",
   "version": "3.8"
  }
 },
 "nbformat": 4,
 "nbformat_minor": 4
}
