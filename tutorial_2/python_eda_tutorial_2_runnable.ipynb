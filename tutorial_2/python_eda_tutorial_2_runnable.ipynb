{
 "cells": [
  {
   "cell_type": "markdown",
   "metadata": {},
   "source": [
    "# Tutorial 2: Transforming and Filtering\n",
    "\n",
    "When we get some data to analyse, it almost always requires a bit of\n",
    "preparation or *cleaning* before we can work productively with it.\n",
    "\n",
    "We’re now going to look at the tools Pandas gives us for:\n",
    "\n",
    "-   Transforming data - allowing us to calculate new columns and fix\n",
    "    incorrect values and formats\n",
    "-   Filtering data - to discard data we aren’t interested in analysing\n",
    "\n",
    "In this tutorial you will:\n",
    "\n",
    "-   Learn about Pandas’ core types and column data types\n",
    "-   Transform columns to clean your data and compute new columns\n",
    "-   Use Boolean conditions on columns to filter DataFrame rows\n",
    "\n",
    "We’ll run this first cell to import Pandas and Plotly, and to load our\n",
    "DataFrame of listings in this notebook."
   ]
  },
  {
   "cell_type": "code",
   "execution_count": null,
   "metadata": {},
   "outputs": [],
   "source": [
    "%pip install pandas plotly nbformat\n",
    "\n",
    "import pandas as pd\n",
    "import plotly.express as px\n",
    "\n",
    "listings_df = pd.read_csv('https://ben-denham.github.io/python-eda/data/inside_airbnb_listings_nz_2023_09.csv')\n",
    "\n",
    "listings_df"
   ]
  },
  {
   "cell_type": "markdown",
   "metadata": {},
   "source": [
    "## Data Types in Pandas\n",
    "\n",
    "What is the *type* of a table of data?"
   ]
  },
  {
   "cell_type": "code",
   "execution_count": null,
   "metadata": {},
   "outputs": [],
   "source": [
    "type(listings_df)"
   ]
  },
  {
   "cell_type": "markdown",
   "metadata": {},
   "source": [
    "What is the *type* of an individual column?"
   ]
  },
  {
   "cell_type": "code",
   "execution_count": null,
   "metadata": {},
   "outputs": [],
   "source": [
    "type(listings_df['room_type'])"
   ]
  },
  {
   "cell_type": "markdown",
   "metadata": {},
   "source": [
    "-   A tabular *DataFrame* is made up of many column *Series*.\n",
    "-   Pandas provides many functions, methods, and operations for working\n",
    "    with both DataFrames and Series\n",
    "-   A particular function or method **may work for both a DataFrame or a\n",
    "    Series**, but the *behaviour* of that function or method can be\n",
    "    quite different for each type\n",
    "-   It is therefore very important to **always be aware of whether we’re\n",
    "    dealing with a DataFrame or a Series**\n",
    "\n",
    "Check the data type of each column in the DataFrame:"
   ]
  },
  {
   "cell_type": "code",
   "execution_count": null,
   "metadata": {},
   "outputs": [],
   "source": [
    "listings_df.info()"
   ]
  },
  {
   "cell_type": "markdown",
   "metadata": {},
   "source": [
    "Notice that:\n",
    "\n",
    "-   Even though the CSV provided no data type information, numeric types\n",
    "    have been automatically inferred by Pandas\n",
    "-   Non-numeric types like strings are listed as `object` (we only have\n",
    "    strings here)\n",
    "-   **Types aren’t always what we want** - the `last_review` column\n",
    "    should be a `datetime`\n",
    "\n",
    "## Transforming Data\n",
    "\n",
    "We can convert a column with datetime-like strings to have a datetime\n",
    "data type:"
   ]
  },
  {
   "cell_type": "code",
   "execution_count": null,
   "metadata": {},
   "outputs": [],
   "source": [
    "pd.to_datetime(listings_df['last_review'])"
   ]
  },
  {
   "cell_type": "markdown",
   "metadata": {},
   "source": [
    "We can replace a column by assigning a new Series to it, just like we\n",
    "would with a Python variable.\n",
    "\n",
    "Replace the `last_review` column with a new Series with a datetime data\n",
    "type:"
   ]
  },
  {
   "cell_type": "code",
   "execution_count": null,
   "metadata": {},
   "outputs": [],
   "source": [
    "listings_df['last_review'] = pd.to_datetime(listings_df['last_review'])"
   ]
  },
  {
   "cell_type": "markdown",
   "metadata": {},
   "source": [
    "Check that the `last_review` column now has the correct data type:"
   ]
  },
  {
   "cell_type": "code",
   "execution_count": null,
   "metadata": {},
   "outputs": [],
   "source": [
    "listings_df.info()"
   ]
  },
  {
   "cell_type": "markdown",
   "metadata": {},
   "source": [
    "### Maths with columns\n",
    "\n",
    "Applying standard Python maths operators on a Series performs the\n",
    "operation on each value in the Series and returns a new Series.\n",
    "\n",
    "Convert listing prices to Australian dollars:"
   ]
  },
  {
   "cell_type": "code",
   "execution_count": null,
   "metadata": {},
   "outputs": [],
   "source": [
    "nzd_to_aud = 0.93\n",
    "\n",
    "listings_df['price_nzd'] * nzd_to_aud"
   ]
  },
  {
   "cell_type": "markdown",
   "metadata": {},
   "source": [
    "Performing maths with two Series applies the operation *element-wise* to\n",
    "each pair of values from the two Series.\n",
    "\n",
    "Also note that we can add new columns to the end of our DataFrame by\n",
    "assigning to a column that doesn’t already exist in the DataFrame.\n",
    "\n",
    "Add a `price_nzd_per_person` column to `listings_df`:"
   ]
  },
  {
   "cell_type": "code",
   "execution_count": null,
   "metadata": {},
   "outputs": [],
   "source": [
    "listings_df['price_nzd_per_person'] = listings_df['price_nzd'] / listings_df['accommodates']\n",
    "\n",
    "listings_df"
   ]
  },
  {
   "cell_type": "markdown",
   "metadata": {},
   "source": [
    "### Applying Functions to DataFrames\n",
    "\n",
    "While Pandas provides many more functions for transforming DataFrames\n",
    "and Series, it is still often convenient to express a transformation as\n",
    "plain-old-Python code applied to a single value or row.\n",
    "\n",
    "We can do this by writing our transformation as a regular Python\n",
    "function and then *applying* it to a Series or DataFrame.\n",
    "\n",
    "For example, the function below can transform a single listing’s ID into\n",
    "a URL for the listing:\n",
    "\n",
    "The following function transforms a listing ID into a URL:"
   ]
  },
  {
   "cell_type": "code",
   "execution_count": null,
   "metadata": {},
   "outputs": [],
   "source": [
    "def id_to_url(id: str) -> str:\n",
    "    numeric_id = id.removeprefix('l')\n",
    "    return f'https://www.airbnb.co.nz/rooms/{numeric_id}'\n",
    "\n",
    "id_to_url('l11909616')"
   ]
  },
  {
   "cell_type": "markdown",
   "metadata": {},
   "source": [
    "Calling `.apply(id_to_url)` on a single column Series calls the function\n",
    "with each value in the Series and uses the returned values to construct\n",
    "a new Series.\n",
    "\n",
    "Produce a series of listing URLs:"
   ]
  },
  {
   "cell_type": "code",
   "execution_count": null,
   "metadata": {},
   "outputs": [],
   "source": [
    "listings_df['id'].apply(id_to_url)"
   ]
  },
  {
   "cell_type": "markdown",
   "metadata": {},
   "source": [
    "> Note: These are just regular strings, but Colab automatically displays\n",
    "> them as hyperlinks because they start with `https://`\n",
    "\n",
    "We can also use `.apply()` with `axis='columns'` on an entire DataFrame\n",
    "to pass an entire row at a time to the function.\n",
    "\n",
    "The output will still be a single Series of the returned values.\n",
    "\n",
    "For example, look at this function that takes a row and returns a\n",
    "listing description:\n",
    "\n",
    "The following function produces a description from a listing row:"
   ]
  },
  {
   "cell_type": "code",
   "execution_count": null,
   "metadata": {},
   "outputs": [],
   "source": [
    "def listing_to_description(row: pd.Series) -> str:\n",
    "    room_type = row['room_type']\n",
    "    host_name = row['host_name']\n",
    "    return f'{room_type} by {host_name}'"
   ]
  },
  {
   "cell_type": "markdown",
   "metadata": {},
   "source": [
    "The `row` passed into the function will be a Series representing a\n",
    "single row in the DataFrame.\n",
    "\n",
    "We can access the row’s value for each column in the same way we access\n",
    "columns in a DataFrame.\n",
    "\n",
    "Produce a Series of listing descriptions:"
   ]
  },
  {
   "cell_type": "code",
   "execution_count": null,
   "metadata": {},
   "outputs": [],
   "source": [
    "listings_df.apply(listing_to_description, axis='columns')"
   ]
  },
  {
   "cell_type": "markdown",
   "metadata": {},
   "source": [
    "One important point to know about `.apply()` is that **Pandas built-in\n",
    "operations will often be much faster** than running plain-old-Python on\n",
    "each row.\n",
    "\n",
    "However, this often won’t make much of a difference until you’re dealing\n",
    "with hundreds of thousands or millions of rows. And remember, when\n",
    "exploring the data it’s **most important for you to be able to quickly\n",
    "translate your ideas into working code!**\n",
    "\n",
    "## Filtering Rows\n",
    "\n",
    "The first step to filtering the rows in a DataFrame is to specify the\n",
    "conditions we want to filter by.\n",
    "\n",
    "Similar to performing maths with Series, using a comparison operator on\n",
    "a Series performs the comparison to each value in the Series and returns\n",
    "a new Series full of “True or False” Boolean values.\n",
    "\n",
    "A Boolean Series like this is commonly called a *mask*\n",
    "\n",
    "Construct a *Boolean Series* that is `True` for listings in\n",
    "`'Wellington City'`:"
   ]
  },
  {
   "cell_type": "code",
   "execution_count": null,
   "metadata": {},
   "outputs": [],
   "source": [
    "wellington_mask = listings_df['region_parent_name'] == 'Wellington City'"
   ]
  },
  {
   "cell_type": "markdown",
   "metadata": {},
   "source": [
    "We can use the mask to return a new DataFrame that is filtered to\n",
    "contain only the rows where the mask is `True`:\n",
    "\n",
    "Use the `wellington_mask` to get a DataFrame of listings in Wellington:"
   ]
  },
  {
   "cell_type": "code",
   "execution_count": null,
   "metadata": {},
   "outputs": [],
   "source": [
    "listings_df[wellington_mask]"
   ]
  },
  {
   "cell_type": "markdown",
   "metadata": {},
   "source": [
    "-   To view the unmatched rows, we’ll want to *invert* the mask\n",
    "    -   `False` becomes `True` and `True` becomes `False`\n",
    "-   We can’t just use Python’s `not` operator, instead we have to use\n",
    "    the tilde operator\n",
    "    -   Aside: This is because the behaviour of Python’s Boolean\n",
    "        operators can’t be overridden by Pandas\n",
    "\n",
    "Use the `wellington_mask` to get a DataFrame of listings NOT in\n",
    "Wellington:"
   ]
  },
  {
   "cell_type": "code",
   "execution_count": null,
   "metadata": {},
   "outputs": [],
   "source": [
    "listings_df[~wellington_mask]"
   ]
  },
  {
   "cell_type": "markdown",
   "metadata": {},
   "source": [
    "Note: Similar to `null` values in SQL, conditions on `NaN` values always\n",
    "evaluate to `False`.\n",
    "\n",
    "### Combining Filters\n",
    "\n",
    "Using Boolean operators to combine masks is a powerful way to build up\n",
    "complex filtering conditions.\n",
    "\n",
    "Just like how we have to use tilde instead of `not` for inversion, we\n",
    "need to use `&` instead of `and` and `|` instead of `or`.\n",
    "\n",
    "Construct a *Boolean Series* that is `True` for listings that cost less\n",
    "than \\$100 per night:"
   ]
  },
  {
   "cell_type": "code",
   "execution_count": null,
   "metadata": {},
   "outputs": [],
   "source": [
    "cheap_mask = listings_df['price_nzd'] <= 100\n",
    "\n",
    "cheap_mask"
   ]
  },
  {
   "cell_type": "markdown",
   "metadata": {},
   "source": [
    "Find cheap listings in Wellington:"
   ]
  },
  {
   "cell_type": "code",
   "execution_count": null,
   "metadata": {},
   "outputs": [],
   "source": [
    "listings_df[cheap_mask & wellington_mask]"
   ]
  },
  {
   "cell_type": "markdown",
   "metadata": {},
   "source": [
    "Find listings that are either cheap OR in Wellington:"
   ]
  },
  {
   "cell_type": "code",
   "execution_count": null,
   "metadata": {},
   "outputs": [],
   "source": [
    "listings_df[cheap_mask | wellington_mask]"
   ]
  },
  {
   "cell_type": "markdown",
   "metadata": {},
   "source": [
    "The tools for transforming and filtering data we’ve used here are the\n",
    "kind of code you’ll spend much of your time writing when analysing data\n",
    "with Pandas.\n",
    "\n",
    "The next set of exercises will give you an opportunity to start applying\n",
    "these tools to clean up and analyse the data.\n",
    "\n",
    "# Practice Exercises\n",
    "\n",
    "## 1. Analysing listing ratings\n",
    "\n",
    "### 1a. Plotting the ratings\n",
    "\n",
    "Guests may review a listing on a scale of 0 to 5 stars, and the mean of\n",
    "those reviews is recorded as the *rating* of the listing.\n",
    "\n",
    "We’d like to get an idea of the distribution of the typical ratings of\n",
    "listings, so your first task is to plot a histogram of the\n",
    "`review_scores_rating` column:"
   ]
  },
  {
   "cell_type": "code",
   "execution_count": null,
   "metadata": {},
   "outputs": [],
   "source": [
    "px.histogram(listings_df, x='review_scores_rating')"
   ]
  },
  {
   "cell_type": "markdown",
   "metadata": {},
   "source": [
    "### 1b. Thinking about distribution spikes\n",
    "\n",
    "In your histogram, you should see that the smooth-ish shape of the\n",
    "distribution is broken up by a series of spikes, especially around the\n",
    "exact ratings of 0, 1, 2, 3, and 4. Why do you think that may be?\n",
    "\n",
    "Listings with a small number of reviews are more likely to have a rating\n",
    "that is either an exact number of stars or a simple ratio. For example,\n",
    "a listing with a single review must have a rating that is equal to the\n",
    "exact number of stars of its only review!\n",
    "\n",
    "When considering summary statistics (like an average rating) it is\n",
    "important to consider how many data points have made up that statistic.\n",
    "\n",
    "### 1c. Plotting filtered data\n",
    "\n",
    "Let’s seen what the distribution looks like if we ignore listings with\n",
    "few reviews.\n",
    "\n",
    "Plot a histogram of listings that have more than 100 reviews:"
   ]
  },
  {
   "cell_type": "code",
   "execution_count": null,
   "metadata": {},
   "outputs": [],
   "source": [
    "px.histogram(listings_df[listings_df['number_of_reviews'] > 100], x='review_scores_rating')"
   ]
  },
  {
   "cell_type": "markdown",
   "metadata": {},
   "source": [
    "Does plotting only listings with a large number of reviews reveal any\n",
    "other insights about the data?\n",
    "\n",
    "No listing with more than 100 reviews has a rating less than 4.0 stars.\n",
    "\n",
    "## 2. Transforming and Filtering Practice\n",
    "\n",
    "Combine the techniques we’ve learned in the last two tutorials to answer\n",
    "these questions:\n",
    "\n",
    "### 2a. What is the lowest cost booking I could make?\n",
    "\n",
    "Note: Each listing has a minimum number of nights that you must book for\n",
    "(recorded in the `minimum_nights` column)."
   ]
  },
  {
   "cell_type": "code",
   "execution_count": null,
   "metadata": {},
   "outputs": [],
   "source": [
    "base_prices = listings_df['price_nzd'] * listings_df['minimum_nights']\n",
    "base_prices.min()"
   ]
  },
  {
   "cell_type": "markdown",
   "metadata": {},
   "source": [
    "You may find it helpful to multiply two columns and use `.min()` as part\n",
    "of your answer.\n",
    "\n",
    "### 2b. Which parent region has more affordable listings on average, Auckland or Wellington City?"
   ]
  },
  {
   "cell_type": "code",
   "execution_count": null,
   "metadata": {},
   "outputs": [],
   "source": [
    "auckland_listings_df = listings_df[listings_df['region_parent_name'] == 'Auckland']\n",
    "print(auckland_listings_df['price_nzd'].mean())\n",
    "\n",
    "wellington_listings_df = listings_df[listings_df['region_parent_name'] == 'Wellington City']\n",
    "print(wellington_listings_df['price_nzd'].mean())"
   ]
  },
  {
   "cell_type": "markdown",
   "metadata": {},
   "source": [
    "You may find it helpful to use filters and `.mean()` as part of your\n",
    "answer.\n",
    "\n",
    "**Extra:** The term “affordable” is subject to interpretation here - is\n",
    "a listing more affordable if it can accommodate more people for the same\n",
    "price? Does your answer change depending on your interpretation of\n",
    "affordable?\n",
    "\n",
    "## 3. Extra for Experts - Data Cleaning\n",
    "\n",
    "Pandas DataFrames and Series have many other methods that apply useful\n",
    "transformations. You can find references for them at these links:\n",
    "\n",
    "-   https://pandas.pydata.org/pandas-docs/stable/reference/frame.html\n",
    "-   https://pandas.pydata.org/pandas-docs/stable/reference/series.html\n",
    "\n",
    "Try using some of them to perform the data cleaning tasks below.\n",
    "\n",
    "### 3a. Filter out listings that are missing a rating\n",
    "\n",
    "Use the\n",
    "[`.isna()`](https://pandas.pydata.org/pandas-docs/stable/reference/api/pandas.Series.isna.html)\n",
    "Series method to find listings that are missing a rating (i.e. the\n",
    "rating is `NaN`)."
   ]
  },
  {
   "cell_type": "code",
   "execution_count": null,
   "metadata": {},
   "outputs": [],
   "source": [
    "reviewed_listings_df = listings_df[~(listings_df['review_scores_rating'].isna())]\n",
    "\n",
    "reviewed_listings_df"
   ]
  },
  {
   "cell_type": "markdown",
   "metadata": {},
   "source": [
    "### 3b. Add a `filled_rating` column to `listings_df` that fills in missing ratings with the mean rating\n",
    "\n",
    "Use the\n",
    "[`.fillna()`](https://pandas.pydata.org/pandas-docs/stable/reference/api/pandas.Series.fillna.html)\n",
    "Series method to replace missing values in a Series with a given value."
   ]
  },
  {
   "cell_type": "code",
   "execution_count": null,
   "metadata": {},
   "outputs": [],
   "source": [
    "rating_mean = listings_df['review_scores_rating'].mean()\n",
    "listings_df['filled_rating'] = listings_df['review_scores_rating'].fillna(rating_mean)"
   ]
  },
  {
   "cell_type": "markdown",
   "metadata": {},
   "source": [
    "> Filling in missing values with an average value can *sometimes* be a\n",
    "> useful technique for applying machine learning models that cannot work\n",
    "> when some data values are missing.\n",
    "\n",
    "### 3c. Convert formatted price strings to numeric values\n",
    "\n",
    "The original Inside Airbnb dataset provides each price as a formatted\n",
    "string starting with a `$` and containing commas. The original formatted\n",
    "values are retained in the `formatted_price` column.\n",
    "\n",
    "Your task is to transform the `formatted_price` column into a numeric\n",
    "`float` data type, just like the `price_nzd` column.\n",
    "\n",
    "You may like to use the `.apply()` used in the tutorial, or try using\n",
    "the\n",
    "[`.str.replace()`](https://pandas.pydata.org/pandas-docs/stable/reference/api/pandas.Series.str.replace.html)\n",
    "and\n",
    "[`.astype()`](https://pandas.pydata.org/pandas-docs/stable/reference/api/pandas.Series.astype.html)\n",
    "Series methods."
   ]
  },
  {
   "cell_type": "code",
   "execution_count": null,
   "metadata": {},
   "outputs": [],
   "source": [
    "(\n",
    "    listings_df['formatted_price']\n",
    "    .str.replace('$', '', regex=False)\n",
    "    .str.replace(',', '', regex=False)\n",
    "    .astype(float)\n",
    ")"
   ]
  }
 ],
 "metadata": {
  "kernelspec": {
   "display_name": "Python",
   "language": "python",
   "name": "python3"
  },
  "language_info": {
   "codemirror_mode": {
    "name": "python",
    "version": "3"
   },
   "file_extension": ".py",
   "mimetype": "text/x-python",
   "name": "python",
   "nbconvert_exporter": "python",
   "pygments_lexer": "ipython3",
   "version": "3.8"
  }
 },
 "nbformat": 4,
 "nbformat_minor": 4
}
