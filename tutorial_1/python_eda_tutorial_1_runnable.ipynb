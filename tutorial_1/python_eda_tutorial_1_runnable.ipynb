{
 "cells": [
  {
   "cell_type": "markdown",
   "metadata": {},
   "source": [
    "# Tutorial 1: Loading and Visualising\n",
    "\n",
    "In this tutorial you will:\n",
    "\n",
    "1.  Learn how to run Python code in Jupyter notebooks\n",
    "2.  Load a CSV file of Airbnb listings into a Pandas DataFrame\n",
    "3.  Use Pandas methods to calculate summary statistics of listing\n",
    "    attributes\n",
    "4.  Use Plotly to produce simple plots to visualise the listings\n",
    "\n",
    "## Jupyter Notebooks\n",
    "\n",
    "-   **Jupyter notebooks** are a very popular platform for Python coding,\n",
    "    particularly for data analysis and visualisation.\n",
    "-   They can combine runnable code, rich outputs like plots, and\n",
    "    formatted documentation.\n",
    "-   You can run **Jupyter notebooks** on your own computer with\n",
    "    **jupyterlab**, but today we are running Jupyter notebooks in\n",
    "    **Google Colab** so that you don’t need to install Python or Jupyter\n",
    "    on your own computer.\n",
    "    -   Note: Because your notebooks will run on Google’s servers, you\n",
    "        shouldn’t upload any company data or code you are not authorised\n",
    "        to use outside of company-approved systems.\n",
    "\n",
    "> Note: Your notebooks in Google Colab will be saved to your Google\n",
    "> Drive account, you can find previous notebooks from the\n",
    "> `File -> Open notebook` menu.\n",
    "\n",
    "In the empty *cell* below, type `1 + 1` and then **press the `Enter` key\n",
    "*while holding* the `Shift` key** to run the code (there may be short\n",
    "delay while the notebook session starts up):"
   ]
  },
  {
   "cell_type": "code",
   "execution_count": null,
   "metadata": {},
   "outputs": [],
   "source": [
    "1 + 1"
   ]
  },
  {
   "cell_type": "markdown",
   "metadata": {},
   "source": [
    "You should see the result of `2` - **the value of the final expression\n",
    "in the cell will be displayed after the cell.**\n",
    "\n",
    "**You can edit and re-run cells;** update your previous cell to instead\n",
    "calculate `2 + 2`, then re-run it.\n",
    "\n",
    "However, **we need to be careful of the order we run cells**. Try to run\n",
    "the following cell:"
   ]
  },
  {
   "cell_type": "code",
   "execution_count": null,
   "metadata": {},
   "outputs": [],
   "source": [
    "days_in_year / 7"
   ]
  },
  {
   "cell_type": "markdown",
   "metadata": {},
   "source": [
    "You should see a `NameError` because we have attempted to use the\n",
    "variable `days_in_year` before it has been defined.\n",
    "\n",
    "Run the following cell to define `days_in_year`, then re-run the cell\n",
    "above:"
   ]
  },
  {
   "cell_type": "code",
   "execution_count": null,
   "metadata": {},
   "outputs": [],
   "source": [
    "days_in_year = 365.2425"
   ]
  },
  {
   "cell_type": "markdown",
   "metadata": {},
   "source": [
    "When working in notebooks, it is a good idea to regularly select\n",
    "`Runtime > Restart session and run all` from the menu to ensure our code\n",
    "executes as we expect when run in order.\n",
    "\n",
    "## Loading data with Pandas\n",
    "\n",
    "We can use the `pandas` library to work with tabular data in Python,\n",
    "like CSVs, SQL tables, and spreadsheets.\n",
    "\n",
    "-   Pandas is based on a lower-level maths library called `numpy`\n",
    "-   Pandas DataFrames are similar to R’s DataFrames\n",
    "\n",
    "Running the following cell will ensure we have Pandas installed\n",
    "(however, it is pre-installed in Google Colab):"
   ]
  },
  {
   "cell_type": "code",
   "execution_count": null,
   "metadata": {},
   "outputs": [],
   "source": [
    "%pip install pandas"
   ]
  },
  {
   "cell_type": "markdown",
   "metadata": {},
   "source": [
    "Import the Pandas library:"
   ]
  },
  {
   "cell_type": "code",
   "execution_count": null,
   "metadata": {},
   "outputs": [],
   "source": [
    "import pandas as pd"
   ]
  },
  {
   "cell_type": "markdown",
   "metadata": {},
   "source": [
    "Importing Pandas as the alias `pd` is conventional, and saves us from\n",
    "typing out `pandas` everytime we want to use it.\n",
    "\n",
    "Now, let’s load our CSV of Airbnb listings:"
   ]
  },
  {
   "cell_type": "code",
   "execution_count": null,
   "metadata": {},
   "outputs": [],
   "source": [
    "listings_df = pd.read_csv('https://ben-denham.github.io/python-eda/data/inside_airbnb_listings_nz_2023_09.csv')"
   ]
  },
  {
   "cell_type": "markdown",
   "metadata": {},
   "source": [
    "-   `df` is a *conventional* variable suffix for a DataFrame.\n",
    "-   Pandas has many different `read_*` functions for reading from\n",
    "    different types of files (e.g. `read_excel()`, `read_sql()`,\n",
    "    `read_parquet()`).\n",
    "\n",
    "Display the contents of the DataFrame:"
   ]
  },
  {
   "cell_type": "code",
   "execution_count": null,
   "metadata": {},
   "outputs": [],
   "source": [
    "listings_df"
   ]
  },
  {
   "cell_type": "markdown",
   "metadata": {},
   "source": [
    "Only a few rows from the top and bottom of the DataFrame are shown\n",
    "\n",
    "Sort the DataFrame by the listing’s current rating:"
   ]
  },
  {
   "cell_type": "code",
   "execution_count": null,
   "metadata": {},
   "outputs": [],
   "source": [
    "listings_df.sort_values('review_scores_rating')"
   ]
  },
  {
   "cell_type": "markdown",
   "metadata": {},
   "source": [
    "**This doesn’t change the original DataFrame**, it returns a new\n",
    "DataFrame that is sorted.\n",
    "\n",
    "Notice that the ratings sorted “last” are `NaN` (aka `null` or `None` or\n",
    "“missing”). **By default `sort_values()` puts all `NaN` values at the\n",
    "end, regardless of sort order.**\n",
    "\n",
    "Indeed, these listings have a `number_of_reviews` equal to `0`. We’ll\n",
    "need to consider how to handle these rating-less listings later.\n",
    "\n",
    "Extract the `name` column on its own:"
   ]
  },
  {
   "cell_type": "code",
   "execution_count": null,
   "metadata": {},
   "outputs": [],
   "source": [
    "listings_df['name']"
   ]
  },
  {
   "cell_type": "markdown",
   "metadata": {},
   "source": [
    "Now select a subset of columns from a DataFrame:"
   ]
  },
  {
   "cell_type": "code",
   "execution_count": null,
   "metadata": {},
   "outputs": [],
   "source": [
    "listings_df[['latitude', 'longitude']]"
   ]
  },
  {
   "cell_type": "markdown",
   "metadata": {},
   "source": [
    "## Summary Statistics\n",
    "\n",
    "A simple and effective way to start exploring our data is to compute\n",
    "*summary statistics*, which is really easy to do with Pandas.\n",
    "\n",
    "Get summary statistics for all numeric columns of the listings:"
   ]
  },
  {
   "cell_type": "code",
   "execution_count": null,
   "metadata": {},
   "outputs": [],
   "source": [
    "listings_df.describe()"
   ]
  },
  {
   "cell_type": "markdown",
   "metadata": {},
   "source": [
    "`.describe()` gives us:\n",
    "\n",
    "-   The count of non-NaN values\n",
    "-   The mean and standard deviation (i.e. how far values spread from the\n",
    "    mean)\n",
    "-   Min/max values\n",
    "-   The 25%, 50%, and 75% quantiles\n",
    "\n",
    "### Mean vs Median\n",
    "\n",
    "The mean (what most would call the “average”) is the sum of all prices\n",
    "divided by the number of listings.\n",
    "\n",
    "The 50% quantile is also known as the median, and is the “middle” value\n",
    "that 50% of values are above and 50% of values are below.\n",
    "\n",
    "The median price is quite a bit lower than the mean, suggesting there is\n",
    "a smaller number of higher prices that are dragging the mean higher.\n",
    "\n",
    "Let’s look at the maximum price.\n",
    "\n",
    "Get the maximum price of any listing:"
   ]
  },
  {
   "cell_type": "code",
   "execution_count": null,
   "metadata": {},
   "outputs": [],
   "source": [
    "listings_df['price_nzd'].max()"
   ]
  },
  {
   "cell_type": "markdown",
   "metadata": {},
   "source": [
    "The maximum price looks suspiciously large for a price per night, this\n",
    "will warrant further investigation!\n",
    "\n",
    "For categorical values, we can get an initial picture by counting the\n",
    "frequency of each distinct value:\n",
    "\n",
    "Count the frequency of each room type (values are listed by descending\n",
    "frequency):"
   ]
  },
  {
   "cell_type": "code",
   "execution_count": null,
   "metadata": {},
   "outputs": [],
   "source": [
    "listings_df['room_type'].value_counts()"
   ]
  },
  {
   "cell_type": "markdown",
   "metadata": {},
   "source": [
    "## Plotting with Plotly\n",
    "\n",
    "While useful, summary statistics only tell us part of the story. For\n",
    "example, we are left with questions about what the difference between\n",
    "the mean and median really means.\n",
    "\n",
    "With the power of Python, there’s nothing stopping us from plotting our\n",
    "data to give us a clearer picture.\n",
    "\n",
    "Running the following cell will ensure we have Plotly installed\n",
    "(however, it is pre-installed in Google Colab):"
   ]
  },
  {
   "cell_type": "code",
   "execution_count": null,
   "metadata": {},
   "outputs": [],
   "source": [
    "%pip install plotly nbformat"
   ]
  },
  {
   "cell_type": "markdown",
   "metadata": {},
   "source": [
    "Import Plotly Express:"
   ]
  },
  {
   "cell_type": "code",
   "execution_count": null,
   "metadata": {},
   "outputs": [],
   "source": [
    "import plotly.express as px"
   ]
  },
  {
   "cell_type": "markdown",
   "metadata": {},
   "source": [
    "Create a scatter plot of listing latitude and longitude values:"
   ]
  },
  {
   "cell_type": "code",
   "execution_count": null,
   "metadata": {},
   "outputs": [],
   "source": [
    "px.scatter(listings_df, x='longitude', y='latitude')"
   ]
  },
  {
   "cell_type": "markdown",
   "metadata": {},
   "source": [
    "See how easy it is to plot our data.\n",
    "\n",
    "Plotly Express makes such plots easy when we have *tidy data* - that is:\n",
    "\n",
    "-   Each row is an *observation* or *data point* to plot\n",
    "-   Each column is an *attribute* or *feature* describing some aspect of\n",
    "    an observation\n",
    "-   Each cell contains only a single value\n",
    "\n",
    "Plot the *distribution* of listing prices:\n",
    "\n",
    "A histogram can show us the *distribution* or *shape* of the values in a\n",
    "column.\n",
    "\n",
    "Each bar is showing us the frequency of values that fall into a certain\n",
    "range (or *bin*)."
   ]
  },
  {
   "cell_type": "code",
   "execution_count": null,
   "metadata": {},
   "outputs": [],
   "source": [
    "px.histogram(listings_df, x='price_nzd')"
   ]
  },
  {
   "cell_type": "markdown",
   "metadata": {},
   "source": [
    "This histogram helps us understand the difference between mean and\n",
    "median prices.\n",
    "\n",
    "There are some very extreme prices in this dataset, almost certainly\n",
    "anomalies. **We will want to filter these out later.**\n",
    "\n",
    "> Side note: The impact of extreme values on the mean is also the reason\n",
    "> you’ll see economists talk about median house prices.\n",
    "\n",
    "This example highlights the importance of visualising our data and not\n",
    "just relying on summary statistics.\n",
    "\n",
    "# Practice Exercises\n",
    "\n",
    "## 1. Dataset Statistics\n",
    "\n",
    "Using the methods we’ve looked at so far, answer the following\n",
    "questions.\n",
    "\n",
    "To see what columns you have available in `listings_df` to answer these\n",
    "questions, you can refer to the column names in the table that is\n",
    "displayed by running this cell:"
   ]
  },
  {
   "cell_type": "code",
   "execution_count": null,
   "metadata": {},
   "outputs": [],
   "source": [
    "listings_df"
   ]
  },
  {
   "cell_type": "markdown",
   "metadata": {},
   "source": [
    "### 1a. Which “parent region” has the least listings?\n",
    "\n",
    "Use the `.value_counts` method."
   ]
  },
  {
   "cell_type": "code",
   "execution_count": null,
   "metadata": {},
   "outputs": [],
   "source": [
    "listings_df['region_parent_name'].value_counts()"
   ]
  },
  {
   "cell_type": "markdown",
   "metadata": {},
   "source": [
    "### 2a. Which listing was last reviewed the longest time ago?\n",
    "\n",
    "Use the `.sort_values` method."
   ]
  },
  {
   "cell_type": "code",
   "execution_count": null,
   "metadata": {},
   "outputs": [],
   "source": [
    "# Get the first `last_review` date.\n",
    "listings_df.sort_values('last_review')"
   ]
  },
  {
   "cell_type": "markdown",
   "metadata": {},
   "source": [
    "### 3a. What would you consider to be a “typical” minimum number of nights for a listing?\n",
    "\n",
    "Look at the `mean`, median (`50%`), and `max` for `minimum_nights`."
   ]
  },
  {
   "cell_type": "code",
   "execution_count": null,
   "metadata": {},
   "outputs": [],
   "source": [
    "listings_df.describe()"
   ]
  },
  {
   "cell_type": "markdown",
   "metadata": {},
   "source": [
    "The mean `minimum_nights` is slightly higher than the median, which\n",
    "seems to be due to an abnormally high maximum value. We could further\n",
    "confirm this by plotting a histogram.\n",
    "\n",
    "Therefore, the median of `2` is a better choice for a “typical” minimum\n",
    "number of nights.\n",
    "\n",
    "## 2. Plotting Practice\n",
    "\n",
    "### 2a. Plot the frequencies of room types\n",
    "\n",
    "In Plotly, we can use histograms to plot the frequencies of values in\n",
    "*categorical* columns (e.g. string labels or integers) as well as\n",
    "*continuous* columns (e.g. numbers with a decimal point).\n",
    "\n",
    "Plot a histogram of the categorical room type column.\n",
    "\n",
    "Call `px.histogram` with `x` set to the `room_type` column."
   ]
  },
  {
   "cell_type": "code",
   "execution_count": null,
   "metadata": {},
   "outputs": [],
   "source": [
    "px.histogram(listings_df, x='room_type')"
   ]
  },
  {
   "cell_type": "markdown",
   "metadata": {},
   "source": [
    "### 2b. Plot the relationship between price and number of reviews\n",
    "\n",
    "Investigating relationships between attributes (columns) is an\n",
    "incredibly important part of exploratory data analysis.\n",
    "\n",
    "Construct a scatter plot that shows the relationship between the\n",
    "listing’s price and its number of reviews (you may need to zoom in on\n",
    "the plot).\n",
    "\n",
    "Call `px.scatter` with `x` and `y` set to the columns for price and\n",
    "number of reviews."
   ]
  },
  {
   "cell_type": "code",
   "execution_count": null,
   "metadata": {},
   "outputs": [],
   "source": [
    "px.scatter(listings_df, x='price_nzd', y='number_of_reviews')"
   ]
  },
  {
   "cell_type": "markdown",
   "metadata": {},
   "source": [
    "What does this scatter plot tell you about listings that are very\n",
    "expensive (say, greater than \\$1,000 per night)?\n",
    "\n",
    "Zoom to price range of 0 to 5000\n",
    "\n",
    "These more expensive listings tend not to have more than about 100\n",
    "reviews.\n",
    "\n",
    "This might be important to consider if we plan to use review scores to\n",
    "predict the price of an expensive listing.\n",
    "\n",
    "## 3. Extra for Experts - Plot Types\n",
    "\n",
    "Choosing the right type of plot is important. For example, say we want\n",
    "to look at the relationship between the price of reasonably-priced\n",
    "listings (less than \\$500 per night) and how many people it\n",
    "accommodates. The following scatter plot doesn’t give us much insight\n",
    "because the points overlap too much:"
   ]
  },
  {
   "cell_type": "code",
   "execution_count": null,
   "metadata": {},
   "outputs": [],
   "source": [
    "px.scatter(listings_df, x='accommodates', y='price_nzd', range_y=[0, 500])"
   ]
  },
  {
   "cell_type": "markdown",
   "metadata": {},
   "source": [
    "However, a heatmap can help us more easily see the relationship by\n",
    "representing the number of points in each cell with colour:"
   ]
  },
  {
   "cell_type": "code",
   "execution_count": null,
   "metadata": {},
   "outputs": [],
   "source": [
    "px.density_heatmap(listings_df, x='accommodates', y='price_nzd', range_y=[0, 500], nbinsy=2000)"
   ]
  },
  {
   "cell_type": "markdown",
   "metadata": {},
   "source": [
    "Try out some other plot types from:\n",
    "https://plotly.com/python/plotly-express/\n",
    "\n",
    "For example, try making a 3D scatter plot between 3 columns:\n",
    "https://plotly.com/python/3d-scatter-plots/"
   ]
  }
 ],
 "metadata": {
  "kernelspec": {
   "display_name": "Python",
   "language": "python",
   "name": "python3"
  },
  "language_info": {
   "codemirror_mode": {
    "name": "python",
    "version": "3"
   },
   "file_extension": ".py",
   "mimetype": "text/x-python",
   "name": "python",
   "nbconvert_exporter": "python",
   "pygments_lexer": "ipython3",
   "version": "3.8"
  }
 },
 "nbformat": 4,
 "nbformat_minor": 4
}
