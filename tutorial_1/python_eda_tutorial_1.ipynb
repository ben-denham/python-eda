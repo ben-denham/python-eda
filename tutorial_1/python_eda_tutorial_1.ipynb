{
 "cells": [
  {
   "cell_type": "markdown",
   "metadata": {},
   "source": [
    "# Tutorial 1: Loading and Visualising\n",
    "\n",
    "In this tutorial… TODO\n",
    "\n",
    "## Jupyter Notebooks\n",
    "\n",
    "-   **Jupyter notebooks** are a very popular platform for Python coding,\n",
    "    particularly for data analysis and visualisation.\n",
    "-   We are running Jupyter notebooks in **Google Colab** so that you\n",
    "    don’t need to install Python or Jupyter on your own computer.\n",
    "    -   Note: Because your notebooks will run on Google’s servers, you\n",
    "        shouldn’t upload any company data or code you are not authorised\n",
    "        to use outside of company-approved systems.\n",
    "-   Jupyter notebooks can also be run on your own desktop or server with\n",
    "    a piece of software called **JupyterLab**.\n",
    "\n",
    "In the empty *cell* below, type `1 + 1` and then **press the `Enter` key\n",
    "*while holding* the `Shift` key** to run the code:"
   ]
  },
  {
   "cell_type": "code",
   "execution_count": null,
   "metadata": {},
   "outputs": [],
   "source": []
  },
  {
   "cell_type": "markdown",
   "metadata": {},
   "source": [
    "<details>\n",
    "<summary>\n",
    "Reveal correct code\n",
    "</summary>\n",
    "\n",
    "``` code\n",
    "1 + 1\n",
    "```\n",
    "\n",
    "</details>"
   ]
  },
  {
   "cell_type": "markdown",
   "metadata": {},
   "source": [
    "# Practice Exercises"
   ]
  }
 ],
 "metadata": {
  "kernelspec": {
   "display_name": "Python",
   "language": "python",
   "name": "python3"
  },
  "language_info": {
   "codemirror_mode": {
    "name": "python",
    "version": "3"
   },
   "file_extension": ".py",
   "mimetype": "text/x-python",
   "name": "python",
   "nbconvert_exporter": "python",
   "pygments_lexer": "ipython3",
   "version": "3.8"
  }
 },
 "nbformat": 4,
 "nbformat_minor": 4
}
