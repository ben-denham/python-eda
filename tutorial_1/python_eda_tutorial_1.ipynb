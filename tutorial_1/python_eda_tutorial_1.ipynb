{
 "cells": [
  {
   "cell_type": "markdown",
   "metadata": {},
   "source": [
    "# Tutorial 1: Loading and Visualising\n",
    "\n",
    "In this tutorial you will:\n",
    "\n",
    "1.  Learn how to run Python code in Jupyter notebooks\n",
    "2.  Load a CSV file of Airbnb listings into a Pandas DataFrame\n",
    "3.  Use Pandas methods to calculate summary statistics of listing\n",
    "    attributes\n",
    "4.  Use Plotly to produce simple plots to visualise the listings\n",
    "\n",
    "## Jupyter Notebooks\n",
    "\n",
    "> Note: Your notebooks in Google Colab will be saved to your Google\n",
    "> Drive account, you can find previous notebooks from the\n",
    "> `File -> Open notebook` menu.\n",
    "\n",
    "In the empty *cell* below, type `1 + 1` and then **press the `Enter` key\n",
    "*while holding* the `Shift` key** to run the code (there may be short\n",
    "delay while the notebook session starts up):"
   ]
  },
  {
   "cell_type": "code",
   "execution_count": null,
   "metadata": {},
   "outputs": [],
   "source": []
  },
  {
   "cell_type": "markdown",
   "metadata": {},
   "source": [
    "<details>\n",
    "<summary>\n",
    "Reveal model answer\n",
    "</summary>\n",
    "\n",
    "``` code\n",
    "1 + 1\n",
    "```\n",
    "\n",
    "</details>"
   ]
  },
  {
   "cell_type": "markdown",
   "metadata": {},
   "source": [
    "However, **we need to be careful of the order we run cells**. Try to run\n",
    "the following cell:"
   ]
  },
  {
   "cell_type": "code",
   "execution_count": null,
   "metadata": {},
   "outputs": [],
   "source": [
    "days_in_year / 7"
   ]
  },
  {
   "cell_type": "markdown",
   "metadata": {},
   "source": [
    "Run the following cell to define `days_in_year`, then re-run the cell\n",
    "above:"
   ]
  },
  {
   "cell_type": "code",
   "execution_count": null,
   "metadata": {},
   "outputs": [],
   "source": [
    "days_in_year = 365.2425"
   ]
  },
  {
   "cell_type": "markdown",
   "metadata": {},
   "source": [
    "## Loading data with Pandas\n",
    "\n",
    "Running the following cell will ensure we have Pandas installed\n",
    "(however, it is pre-installed in Google Colab):"
   ]
  },
  {
   "cell_type": "code",
   "execution_count": null,
   "metadata": {},
   "outputs": [],
   "source": [
    "%pip install pandas"
   ]
  },
  {
   "cell_type": "markdown",
   "metadata": {},
   "source": [
    "Import the Pandas library:"
   ]
  },
  {
   "cell_type": "code",
   "execution_count": null,
   "metadata": {},
   "outputs": [],
   "source": []
  },
  {
   "cell_type": "markdown",
   "metadata": {},
   "source": [
    "<details>\n",
    "<summary>\n",
    "Reveal model answer\n",
    "</summary>\n",
    "\n",
    "``` code\n",
    "import pandas as pd\n",
    "```\n",
    "\n",
    "</details>"
   ]
  },
  {
   "cell_type": "markdown",
   "metadata": {},
   "source": [
    "Now, let’s load our CSV of Airbnb listings:"
   ]
  },
  {
   "cell_type": "code",
   "execution_count": null,
   "metadata": {},
   "outputs": [],
   "source": [
    "listings_df = pd.read_csv('https://ben-denham.github.io/python-eda/data/inside_airbnb_listings_nz_2023_09.csv')"
   ]
  },
  {
   "cell_type": "markdown",
   "metadata": {},
   "source": [
    "Display the contents of the DataFrame:"
   ]
  },
  {
   "cell_type": "code",
   "execution_count": null,
   "metadata": {},
   "outputs": [],
   "source": []
  },
  {
   "cell_type": "markdown",
   "metadata": {},
   "source": [
    "<details>\n",
    "<summary>\n",
    "Reveal model answer\n",
    "</summary>\n",
    "\n",
    "``` code\n",
    "listings_df\n",
    "```\n",
    "\n",
    "</details>"
   ]
  },
  {
   "cell_type": "markdown",
   "metadata": {},
   "source": [
    "Only a few rows from the top and bottom of the DataFrame are shown\n",
    "\n",
    "Sort the DataFrame by the listing’s current rating:"
   ]
  },
  {
   "cell_type": "code",
   "execution_count": null,
   "metadata": {},
   "outputs": [],
   "source": []
  },
  {
   "cell_type": "markdown",
   "metadata": {},
   "source": [
    "<details>\n",
    "<summary>\n",
    "Reveal model answer\n",
    "</summary>\n",
    "\n",
    "``` code\n",
    "listings_df.sort_values('review_scores_rating')\n",
    "```\n",
    "\n",
    "</details>"
   ]
  },
  {
   "cell_type": "markdown",
   "metadata": {},
   "source": [
    "**This doesn’t change the original DataFrame**, it returns a new\n",
    "DataFrame that is sorted.\n",
    "\n",
    "Notice that the ratings sorted “last” are `NaN` (aka `null` or `None` or\n",
    "“missing”). **By default `sort_values()` puts all `NaN` values at the\n",
    "end, regardless of sort order.**\n",
    "\n",
    "Indeed, these listings have a `number_of_reviews` equal to `0`. We’ll\n",
    "need to consider how to handle these rating-less listings later.\n",
    "\n",
    "Select a subset of columns from a DataFrame:"
   ]
  },
  {
   "cell_type": "code",
   "execution_count": null,
   "metadata": {},
   "outputs": [],
   "source": []
  },
  {
   "cell_type": "markdown",
   "metadata": {},
   "source": [
    "<details>\n",
    "<summary>\n",
    "Reveal model answer\n",
    "</summary>\n",
    "\n",
    "``` code\n",
    "listings_df[['latitude', 'longitude']]\n",
    "```\n",
    "\n",
    "</details>"
   ]
  },
  {
   "cell_type": "markdown",
   "metadata": {},
   "source": [
    "Now extract the `name` column on its own:"
   ]
  },
  {
   "cell_type": "code",
   "execution_count": null,
   "metadata": {},
   "outputs": [],
   "source": []
  },
  {
   "cell_type": "markdown",
   "metadata": {},
   "source": [
    "<details>\n",
    "<summary>\n",
    "Reveal model answer\n",
    "</summary>\n",
    "\n",
    "``` code\n",
    "listings_df['name']\n",
    "```\n",
    "\n",
    "</details>"
   ]
  },
  {
   "cell_type": "markdown",
   "metadata": {},
   "source": [
    "## Summary Statistics\n",
    "\n",
    "Get summary statistics for all numeric columns of the listings:"
   ]
  },
  {
   "cell_type": "code",
   "execution_count": null,
   "metadata": {},
   "outputs": [],
   "source": []
  },
  {
   "cell_type": "markdown",
   "metadata": {},
   "source": [
    "<details>\n",
    "<summary>\n",
    "Reveal model answer\n",
    "</summary>\n",
    "\n",
    "``` code\n",
    "listings_df.describe()\n",
    "```\n",
    "\n",
    "</details>"
   ]
  },
  {
   "cell_type": "markdown",
   "metadata": {},
   "source": [
    "Get the maximum price of any listing:"
   ]
  },
  {
   "cell_type": "code",
   "execution_count": null,
   "metadata": {},
   "outputs": [],
   "source": []
  },
  {
   "cell_type": "markdown",
   "metadata": {},
   "source": [
    "<details>\n",
    "<summary>\n",
    "Reveal model answer\n",
    "</summary>\n",
    "\n",
    "``` code\n",
    "listings_df['price_nzd'].max()\n",
    "```\n",
    "\n",
    "</details>"
   ]
  },
  {
   "cell_type": "markdown",
   "metadata": {},
   "source": [
    "Count the frequency of each room type (values are listed by descending\n",
    "frequency):"
   ]
  },
  {
   "cell_type": "code",
   "execution_count": null,
   "metadata": {},
   "outputs": [],
   "source": []
  },
  {
   "cell_type": "markdown",
   "metadata": {},
   "source": [
    "<details>\n",
    "<summary>\n",
    "Reveal model answer\n",
    "</summary>\n",
    "\n",
    "``` code\n",
    "listings_df['room_type'].value_counts()\n",
    "```\n",
    "\n",
    "</details>"
   ]
  },
  {
   "cell_type": "markdown",
   "metadata": {},
   "source": [
    "## Plotting with Plotly\n",
    "\n",
    "Running the following cell will ensure we have Plotly installed\n",
    "(however, it is pre-installed in Google Colab):"
   ]
  },
  {
   "cell_type": "code",
   "execution_count": null,
   "metadata": {},
   "outputs": [],
   "source": [
    "%pip install plotly"
   ]
  },
  {
   "cell_type": "markdown",
   "metadata": {},
   "source": [
    "Import Plotly Express:"
   ]
  },
  {
   "cell_type": "code",
   "execution_count": null,
   "metadata": {},
   "outputs": [],
   "source": []
  },
  {
   "cell_type": "markdown",
   "metadata": {},
   "source": [
    "<details>\n",
    "<summary>\n",
    "Reveal model answer\n",
    "</summary>\n",
    "\n",
    "``` code\n",
    "import plotly.express as px\n",
    "```\n",
    "\n",
    "</details>"
   ]
  },
  {
   "cell_type": "markdown",
   "metadata": {},
   "source": [
    "Create a scatter plot of listing latitude and longitude values:"
   ]
  },
  {
   "cell_type": "code",
   "execution_count": null,
   "metadata": {},
   "outputs": [],
   "source": []
  },
  {
   "cell_type": "markdown",
   "metadata": {},
   "source": [
    "<details>\n",
    "<summary>\n",
    "Reveal model answer\n",
    "</summary>\n",
    "\n",
    "``` code\n",
    "px.scatter(listings_df, x='longitude', y='latitude')\n",
    "```\n",
    "\n",
    "</details>"
   ]
  },
  {
   "cell_type": "markdown",
   "metadata": {},
   "source": [
    "Plotly Express makes such plots easy when we have *tidy data* - that is:\n",
    "\n",
    "-   Each row is an *observation* or *data point* to plot\n",
    "-   Each column is an *attribute* or *feature* describing some aspect of\n",
    "    an observation\n",
    "-   Each cell contains only a single value\n",
    "\n",
    "Plot the *distribution* of listing prices:"
   ]
  },
  {
   "cell_type": "code",
   "execution_count": null,
   "metadata": {},
   "outputs": [],
   "source": []
  },
  {
   "cell_type": "markdown",
   "metadata": {},
   "source": [
    "<details>\n",
    "<summary>\n",
    "Reveal model answer\n",
    "</summary>\n",
    "\n",
    "``` code\n",
    "px.histogram(listings_df, x='price_nzd')\n",
    "```\n",
    "\n",
    "</details>"
   ]
  },
  {
   "cell_type": "markdown",
   "metadata": {},
   "source": [
    "# Practice Exercises\n",
    "\n",
    "## 1. Dataset Statistics\n",
    "\n",
    "Using the methods we’ve looked at so far, answer the following\n",
    "questions:\n",
    "\n",
    "### 1a. Which “parent region” has the least listings?\n",
    "\n",
    "<details>\n",
    "<summary>\n",
    "Hint\n",
    "</summary>\n",
    "\n",
    "Use the `.value_counts` method.\n",
    "\n",
    "</details>"
   ]
  },
  {
   "cell_type": "code",
   "execution_count": null,
   "metadata": {},
   "outputs": [],
   "source": []
  },
  {
   "cell_type": "markdown",
   "metadata": {},
   "source": [
    "<details>\n",
    "<summary>\n",
    "Reveal model answer\n",
    "</summary>\n",
    "\n",
    "``` code\n",
    "listings_df.value_counts('region_parent_name')\n",
    "```\n",
    "\n",
    "</details>"
   ]
  },
  {
   "cell_type": "markdown",
   "metadata": {},
   "source": [
    "### 2a. Which listing was last reviewed the longest time ago?\n",
    "\n",
    "<details>\n",
    "<summary>\n",
    "Hint\n",
    "</summary>\n",
    "\n",
    "Use the `.sort_values` method.\n",
    "\n",
    "</details>"
   ]
  },
  {
   "cell_type": "code",
   "execution_count": null,
   "metadata": {},
   "outputs": [],
   "source": []
  },
  {
   "cell_type": "markdown",
   "metadata": {},
   "source": [
    "<details>\n",
    "<summary>\n",
    "Reveal model answer\n",
    "</summary>\n",
    "\n",
    "``` code\n",
    "# Get the first `last_review` date.\n",
    "listings_df.sort_values('last_review')\n",
    "```\n",
    "\n",
    "</details>"
   ]
  },
  {
   "cell_type": "markdown",
   "metadata": {},
   "source": [
    "### 3a. What would you consider to be a “typical” minimum number of nights for a listing?\n",
    "\n",
    "<details>\n",
    "<summary>\n",
    "Hint\n",
    "</summary>\n",
    "\n",
    "Look at the `mean`, median (`50%`), and `max` for `minimum_nights`.\n",
    "\n",
    "</details>"
   ]
  },
  {
   "cell_type": "code",
   "execution_count": null,
   "metadata": {},
   "outputs": [],
   "source": []
  },
  {
   "cell_type": "markdown",
   "metadata": {},
   "source": [
    "<details>\n",
    "<summary>\n",
    "Reveal model answer\n",
    "</summary>\n",
    "\n",
    "``` code\n",
    "listings_df.describe()\n",
    "```\n",
    "\n",
    "The mean `minimum_nights` is slightly higher than the median, which\n",
    "seems to be due to an abnormally high maximum value. We could further\n",
    "confirm this by plotting a histogram.\n",
    "\n",
    "Therefore, the median of `2` is a better choice for a “typical” minimum\n",
    "number of nights.\n",
    "</details>"
   ]
  },
  {
   "cell_type": "markdown",
   "metadata": {},
   "source": [
    "## 2. Plotting Practice\n",
    "\n",
    "### 2a. Plot the frequencies of room types\n",
    "\n",
    "In Plotly, we can use histograms to plot the frequencies of values in\n",
    "*categorical* columns (e.g. string labels or integers) as well as\n",
    "*continuous* columns (e.g. numbers with a decimal point).\n",
    "\n",
    "Plot a histogram of the categorical room type column.\n",
    "\n",
    "<details>\n",
    "<summary>\n",
    "Hint\n",
    "</summary>\n",
    "\n",
    "Call `px.histogram` with `x` set to the `room_type` column.\n",
    "\n",
    "</details>"
   ]
  },
  {
   "cell_type": "code",
   "execution_count": null,
   "metadata": {},
   "outputs": [],
   "source": []
  },
  {
   "cell_type": "markdown",
   "metadata": {},
   "source": [
    "<details>\n",
    "<summary>\n",
    "Reveal model answer\n",
    "</summary>\n",
    "\n",
    "``` code\n",
    "px.histogram(listings_df, x='room_type')\n",
    "```\n",
    "\n",
    "</details>"
   ]
  },
  {
   "cell_type": "markdown",
   "metadata": {},
   "source": [
    "### 2b. Plot the relationship between price and number of reviews\n",
    "\n",
    "Investigating relationships between attributes (columns) is an\n",
    "incredibly important part of exploratory data analysis.\n",
    "\n",
    "Construct a scatter plot that shows the relationship between the\n",
    "listing’s price and its number of reviews (you may need to zoom in on\n",
    "the plot).\n",
    "\n",
    "<details>\n",
    "<summary>\n",
    "Hint\n",
    "</summary>\n",
    "\n",
    "Call `px.scatter` with `x` and `y` set to the columns for price and\n",
    "number of reviews.\n",
    "\n",
    "</details>"
   ]
  },
  {
   "cell_type": "code",
   "execution_count": null,
   "metadata": {},
   "outputs": [],
   "source": []
  },
  {
   "cell_type": "markdown",
   "metadata": {},
   "source": [
    "<details>\n",
    "<summary>\n",
    "Reveal model answer\n",
    "</summary>\n",
    "\n",
    "``` code\n",
    "px.scatter(listings_df, x='price_nzd', y='number_of_reviews')\n",
    "```\n",
    "\n",
    "</details>"
   ]
  },
  {
   "cell_type": "markdown",
   "metadata": {},
   "source": [
    "What does this scatter plot tell you about listings that are very\n",
    "expensive (say, greater than \\$1,000 per night)?"
   ]
  },
  {
   "cell_type": "code",
   "execution_count": null,
   "metadata": {},
   "outputs": [],
   "source": []
  },
  {
   "cell_type": "markdown",
   "metadata": {},
   "source": [
    "<details>\n",
    "<summary>\n",
    "Reveal model answer\n",
    "</summary>\n",
    "\n",
    "These more expensive listings tend not to have more than about 100\n",
    "reviews.\n",
    "\n",
    "This might be important to consider if we plan to use review scores to\n",
    "predict the price of an expensive listing.\n",
    "</details>"
   ]
  },
  {
   "cell_type": "markdown",
   "metadata": {},
   "source": [
    "## 3. Extra for Experts - Plot Types\n",
    "\n",
    "Choosing the right type of plot is important. For example, say we want\n",
    "to look at the relationship between the price of reasonably-priced\n",
    "listings (less than \\$500 per night) and how many people it\n",
    "accommodates. The following scatter plot doesn’t give us much insight\n",
    "because the points overlap too much:"
   ]
  },
  {
   "cell_type": "code",
   "execution_count": null,
   "metadata": {},
   "outputs": [],
   "source": [
    "px.scatter(listings_df, x='accommodates', y='price_nzd', range_y=[0, 500])"
   ]
  },
  {
   "cell_type": "markdown",
   "metadata": {},
   "source": [
    "However, a heatmap can help us more easily see the relationship by\n",
    "representing the number of points in each cell with colour:"
   ]
  },
  {
   "cell_type": "code",
   "execution_count": null,
   "metadata": {},
   "outputs": [],
   "source": [
    "px.density_heatmap(listings_df, x='accommodates', y='price_nzd', range_y=[0, 500], nbinsy=2000)"
   ]
  },
  {
   "cell_type": "markdown",
   "metadata": {},
   "source": [
    "Try out some other plot types from:\n",
    "https://plotly.com/python/plotly-express/\n",
    "\n",
    "For example, try making a 3D scatter plot between 3 columns:\n",
    "https://plotly.com/python/3d-scatter-plots/"
   ]
  }
 ],
 "metadata": {
  "kernelspec": {
   "display_name": "Python",
   "language": "python",
   "name": "python3"
  },
  "language_info": {
   "codemirror_mode": {
    "name": "python",
    "version": "3"
   },
   "file_extension": ".py",
   "mimetype": "text/x-python",
   "name": "python",
   "nbconvert_exporter": "python",
   "pygments_lexer": "ipython3",
   "version": "3.8"
  }
 },
 "nbformat": 4,
 "nbformat_minor": 4
}
